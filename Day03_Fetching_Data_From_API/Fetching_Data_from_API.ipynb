{
 "cells": [
  {
   "cell_type": "code",
   "execution_count": null,
   "id": "8f1d8d6b",
   "metadata": {},
   "outputs": [],
   "source": [
    "# Fetching Data From an API | \n",
    "# --------------------------------------------\n",
    "#\n",
    "# 1. What is an API?\n",
    "# - API stands for Application Programming Interface.\n",
    "# - It allows two software systems to communicate and share data.\n",
    "# - APIs provide structured and real-time data access from web services.\n",
    "# - Example: Booking train tickets, checking availability via railway API.\n",
    "#\n",
    "# 2. When to use APIs for Data:\n",
    "# - APIs offer reliable, structured data sources.\n",
    "# - Preferred over web scraping when available.\n",
    "# - If API is unavailable, then fallback is web scraping.\n",
    "#\n",
    "# 3. Example API used: TMDB (The Movie Database) API\n",
    "# - Used to fetch movie data such as titles, ratings, release dates.\n",
    "# - Registration is required to get an API key.\n",
    "#\n",
    "# 4. Steps to Fetch Data Using an API:\n",
    "# - Register and get an API key.\n",
    "# - Understand API endpoints (URLs for specific data requests).\n",
    "# - Use Python libraries like 'requests' to send HTTP GET requests.\n",
    "# - Parse JSON responses to extract needed data fields.\n",
    "# - Convert extracted data into pandas DataFrame for analysis.\n",
    "#\n",
    "# 5. Code Demonstration Highlights:\n",
    "# - Sending requests to TMDB API to get top-rated movies.\n",
    "# - Extracting specific fields like movie title, release date, popularity, vote count.\n",
    "# - Handling pagination by looping through multiple pages to collect larger datasets.\n",
    "# - Creating a consolidated DataFrame combining all fetched data.\n",
    "#\n",
    "# 6. Uploading Data:\n",
    "# - After fetching and storing, datasets can be uploaded to platforms like Kaggle.\n",
    "# - Enables sharing data professionally for collaboration and competitions.\n",
    "#\n",
    "# 7. Practical Tips:\n",
    "# - Always check API limits and usage policies.\n",
    "# - Use error handling for failed requests or API timeouts.\n",
    "# - Validate and clean data after extraction.\n",
    "# - Explore API documentation thoroughly for available endpoints and parameters.\n",
    "#\n",
    "# 8. Summary:\n",
    "# - APIs are a crucial and efficient data source for machine learning.\n",
    "# - Using APIs saves time and ensures better data quality than scraping.\n",
    "# - Learning to work with APIs prepares practitioners for real-world data collection.\n",
    "#\n",
    "# -- End of Notes --\n"
   ]
  },
  {
   "cell_type": "code",
   "execution_count": 38,
   "id": "9babcc1d-60af-488d-a294-c8b128a7e8f4",
   "metadata": {},
   "outputs": [],
   "source": [
    "import pandas as pd\n",
    "import requests"
   ]
  },
  {
   "cell_type": "code",
   "execution_count": 41,
   "id": "44ea41c8-5ada-466f-8e2d-4d11e6ffb364",
   "metadata": {},
   "outputs": [],
   "source": [
    "conn = requests.get(\"https://api.themoviedb.org/3/movie/top_rated?api_key=<<your api key>>&&language=en-US&page=1\")"
   ]
  },
  {
   "cell_type": "code",
   "execution_count": 42,
   "id": "b0ab4e96-73fa-49cf-a879-df214c33c593",
   "metadata": {},
   "outputs": [
    {
     "data": {
      "text/plain": [
       "<Response [200]>"
      ]
     },
     "execution_count": 42,
     "metadata": {},
     "output_type": "execute_result"
    }
   ],
   "source": [
    "conn"
   ]
  },
  {
   "cell_type": "code",
   "execution_count": 43,
   "id": "2a7ef711-1603-4ea0-ade8-5bbe3ca2b953",
   "metadata": {},
   "outputs": [
    {
     "data": {
      "text/html": [
       "<div>\n",
       "<style scoped>\n",
       "    .dataframe tbody tr th:only-of-type {\n",
       "        vertical-align: middle;\n",
       "    }\n",
       "\n",
       "    .dataframe tbody tr th {\n",
       "        vertical-align: top;\n",
       "    }\n",
       "\n",
       "    .dataframe thead th {\n",
       "        text-align: right;\n",
       "    }\n",
       "</style>\n",
       "<table border=\"1\" class=\"dataframe\">\n",
       "  <thead>\n",
       "    <tr style=\"text-align: right;\">\n",
       "      <th></th>\n",
       "      <th>adult</th>\n",
       "      <th>backdrop_path</th>\n",
       "      <th>genre_ids</th>\n",
       "      <th>id</th>\n",
       "      <th>original_language</th>\n",
       "      <th>original_title</th>\n",
       "      <th>overview</th>\n",
       "      <th>popularity</th>\n",
       "      <th>poster_path</th>\n",
       "      <th>release_date</th>\n",
       "      <th>title</th>\n",
       "      <th>video</th>\n",
       "      <th>vote_average</th>\n",
       "      <th>vote_count</th>\n",
       "    </tr>\n",
       "  </thead>\n",
       "  <tbody>\n",
       "    <tr>\n",
       "      <th>0</th>\n",
       "      <td>False</td>\n",
       "      <td>/pNjh59JSxChQktamG3LMp9ZoQzp.jpg</td>\n",
       "      <td>[18, 80]</td>\n",
       "      <td>278</td>\n",
       "      <td>en</td>\n",
       "      <td>The Shawshank Redemption</td>\n",
       "      <td>Imprisoned in the 1940s for the double murder ...</td>\n",
       "      <td>31.3131</td>\n",
       "      <td>/9cqNxx0GxF0bflZmeSMuL5tnGzr.jpg</td>\n",
       "      <td>1994-09-23</td>\n",
       "      <td>The Shawshank Redemption</td>\n",
       "      <td>False</td>\n",
       "      <td>8.712</td>\n",
       "      <td>28861</td>\n",
       "    </tr>\n",
       "    <tr>\n",
       "      <th>1</th>\n",
       "      <td>False</td>\n",
       "      <td>/tmU7GeKVybMWFButWEGl2M4GeiP.jpg</td>\n",
       "      <td>[18, 80]</td>\n",
       "      <td>238</td>\n",
       "      <td>en</td>\n",
       "      <td>The Godfather</td>\n",
       "      <td>Spanning the years 1945 to 1955, a chronicle o...</td>\n",
       "      <td>26.8325</td>\n",
       "      <td>/3bhkrj58Vtu7enYsRolD1fZdja1.jpg</td>\n",
       "      <td>1972-03-14</td>\n",
       "      <td>The Godfather</td>\n",
       "      <td>False</td>\n",
       "      <td>8.685</td>\n",
       "      <td>21818</td>\n",
       "    </tr>\n",
       "  </tbody>\n",
       "</table>\n",
       "</div>"
      ],
      "text/plain": [
       "   adult                     backdrop_path genre_ids   id original_language  \\\n",
       "0  False  /pNjh59JSxChQktamG3LMp9ZoQzp.jpg  [18, 80]  278                en   \n",
       "1  False  /tmU7GeKVybMWFButWEGl2M4GeiP.jpg  [18, 80]  238                en   \n",
       "\n",
       "             original_title  \\\n",
       "0  The Shawshank Redemption   \n",
       "1             The Godfather   \n",
       "\n",
       "                                            overview  popularity  \\\n",
       "0  Imprisoned in the 1940s for the double murder ...     31.3131   \n",
       "1  Spanning the years 1945 to 1955, a chronicle o...     26.8325   \n",
       "\n",
       "                        poster_path release_date                     title  \\\n",
       "0  /9cqNxx0GxF0bflZmeSMuL5tnGzr.jpg   1994-09-23  The Shawshank Redemption   \n",
       "1  /3bhkrj58Vtu7enYsRolD1fZdja1.jpg   1972-03-14             The Godfather   \n",
       "\n",
       "   video  vote_average  vote_count  \n",
       "0  False         8.712       28861  \n",
       "1  False         8.685       21818  "
      ]
     },
     "execution_count": 43,
     "metadata": {},
     "output_type": "execute_result"
    }
   ],
   "source": [
    "pd.DataFrame(conn.json()['results']).head(2)\n",
    "#converting into dataframes"
   ]
  },
  {
   "cell_type": "code",
   "execution_count": 44,
   "id": "21694890-f4ac-460f-b1a2-b3d542f0d5e2",
   "metadata": {},
   "outputs": [],
   "source": [
    "df= pd.DataFrame(conn.json()['results'])[['id','title','overview',\n",
    "                                              'release_date','popularity',\n",
    "                                              'vote_average','vote_count']]\n",
    "#converting into dataframes"
   ]
  },
  {
   "cell_type": "code",
   "execution_count": 45,
   "id": "58f4aeac-4e8a-43f8-afb2-59796d25ae40",
   "metadata": {
    "scrolled": true
   },
   "outputs": [
    {
     "data": {
      "text/html": [
       "<div>\n",
       "<style scoped>\n",
       "    .dataframe tbody tr th:only-of-type {\n",
       "        vertical-align: middle;\n",
       "    }\n",
       "\n",
       "    .dataframe tbody tr th {\n",
       "        vertical-align: top;\n",
       "    }\n",
       "\n",
       "    .dataframe thead th {\n",
       "        text-align: right;\n",
       "    }\n",
       "</style>\n",
       "<table border=\"1\" class=\"dataframe\">\n",
       "  <thead>\n",
       "    <tr style=\"text-align: right;\">\n",
       "      <th></th>\n",
       "      <th>id</th>\n",
       "      <th>title</th>\n",
       "      <th>overview</th>\n",
       "      <th>release_date</th>\n",
       "      <th>popularity</th>\n",
       "      <th>vote_average</th>\n",
       "      <th>vote_count</th>\n",
       "    </tr>\n",
       "  </thead>\n",
       "  <tbody>\n",
       "    <tr>\n",
       "      <th>0</th>\n",
       "      <td>278</td>\n",
       "      <td>The Shawshank Redemption</td>\n",
       "      <td>Imprisoned in the 1940s for the double murder ...</td>\n",
       "      <td>1994-09-23</td>\n",
       "      <td>31.3131</td>\n",
       "      <td>8.712</td>\n",
       "      <td>28861</td>\n",
       "    </tr>\n",
       "    <tr>\n",
       "      <th>1</th>\n",
       "      <td>238</td>\n",
       "      <td>The Godfather</td>\n",
       "      <td>Spanning the years 1945 to 1955, a chronicle o...</td>\n",
       "      <td>1972-03-14</td>\n",
       "      <td>26.8325</td>\n",
       "      <td>8.685</td>\n",
       "      <td>21818</td>\n",
       "    </tr>\n",
       "    <tr>\n",
       "      <th>2</th>\n",
       "      <td>240</td>\n",
       "      <td>The Godfather Part II</td>\n",
       "      <td>In the continuing saga of the Corleone crime f...</td>\n",
       "      <td>1974-12-20</td>\n",
       "      <td>16.5703</td>\n",
       "      <td>8.571</td>\n",
       "      <td>13178</td>\n",
       "    </tr>\n",
       "    <tr>\n",
       "      <th>3</th>\n",
       "      <td>424</td>\n",
       "      <td>Schindler's List</td>\n",
       "      <td>The true story of how businessman Oskar Schind...</td>\n",
       "      <td>1993-12-15</td>\n",
       "      <td>12.6319</td>\n",
       "      <td>8.566</td>\n",
       "      <td>16688</td>\n",
       "    </tr>\n",
       "    <tr>\n",
       "      <th>4</th>\n",
       "      <td>389</td>\n",
       "      <td>12 Angry Men</td>\n",
       "      <td>The defense and the prosecution have rested an...</td>\n",
       "      <td>1957-04-10</td>\n",
       "      <td>13.1417</td>\n",
       "      <td>8.500</td>\n",
       "      <td>9383</td>\n",
       "    </tr>\n",
       "  </tbody>\n",
       "</table>\n",
       "</div>"
      ],
      "text/plain": [
       "    id                     title  \\\n",
       "0  278  The Shawshank Redemption   \n",
       "1  238             The Godfather   \n",
       "2  240     The Godfather Part II   \n",
       "3  424          Schindler's List   \n",
       "4  389              12 Angry Men   \n",
       "\n",
       "                                            overview release_date  popularity  \\\n",
       "0  Imprisoned in the 1940s for the double murder ...   1994-09-23     31.3131   \n",
       "1  Spanning the years 1945 to 1955, a chronicle o...   1972-03-14     26.8325   \n",
       "2  In the continuing saga of the Corleone crime f...   1974-12-20     16.5703   \n",
       "3  The true story of how businessman Oskar Schind...   1993-12-15     12.6319   \n",
       "4  The defense and the prosecution have rested an...   1957-04-10     13.1417   \n",
       "\n",
       "   vote_average  vote_count  \n",
       "0         8.712       28861  \n",
       "1         8.685       21818  \n",
       "2         8.571       13178  \n",
       "3         8.566       16688  \n",
       "4         8.500        9383  "
      ]
     },
     "execution_count": 45,
     "metadata": {},
     "output_type": "execute_result"
    }
   ],
   "source": [
    "df.head()"
   ]
  },
  {
   "cell_type": "code",
   "execution_count": 46,
   "id": "4cdebe48-27f6-4bb6-85b1-1c33acc35cf9",
   "metadata": {},
   "outputs": [],
   "source": [
    "df = pd.DataFrame()"
   ]
  },
  {
   "cell_type": "code",
   "execution_count": 47,
   "id": "cf4e268d-7987-4f05-8c2f-60da4da14cc5",
   "metadata": {},
   "outputs": [
    {
     "data": {
      "text/html": [
       "<div>\n",
       "<style scoped>\n",
       "    .dataframe tbody tr th:only-of-type {\n",
       "        vertical-align: middle;\n",
       "    }\n",
       "\n",
       "    .dataframe tbody tr th {\n",
       "        vertical-align: top;\n",
       "    }\n",
       "\n",
       "    .dataframe thead th {\n",
       "        text-align: right;\n",
       "    }\n",
       "</style>\n",
       "<table border=\"1\" class=\"dataframe\">\n",
       "  <thead>\n",
       "    <tr style=\"text-align: right;\">\n",
       "      <th></th>\n",
       "    </tr>\n",
       "  </thead>\n",
       "  <tbody>\n",
       "  </tbody>\n",
       "</table>\n",
       "</div>"
      ],
      "text/plain": [
       "Empty DataFrame\n",
       "Columns: []\n",
       "Index: []"
      ]
     },
     "execution_count": 47,
     "metadata": {},
     "output_type": "execute_result"
    }
   ],
   "source": [
    "df"
   ]
  },
  {
   "cell_type": "code",
   "execution_count": 48,
   "id": "b390baed-df1a-4ec1-b364-2b4861bb1263",
   "metadata": {
    "scrolled": true
   },
   "outputs": [],
   "source": [
    "for i in range(1,429):\n",
    "    conn = requests.get(\"https://api.themoviedb.org/3/movie/top_rated?api_key=<<your api key>>&&language=en-US&page={}\".format(i))\n",
    "    temp_df= pd.DataFrame(conn.json()['results'])[['id','title','overview','release_date','popularity','vote_average','vote_count']]\n",
    "    df = pd.concat([df, temp_df], ignore_index=True)"
   ]
  },
  {
   "cell_type": "code",
   "execution_count": 50,
   "id": "1d54a483-f86c-408e-b94d-ba100853ccae",
   "metadata": {},
   "outputs": [
    {
     "data": {
      "text/plain": [
       "(8560, 7)"
      ]
     },
     "execution_count": 50,
     "metadata": {},
     "output_type": "execute_result"
    }
   ],
   "source": [
    "df.shape"
   ]
  },
  {
   "cell_type": "code",
   "execution_count": 51,
   "id": "e8dcafa4-6cec-442e-afe7-9faa3d401b65",
   "metadata": {},
   "outputs": [],
   "source": [
    "df.to_csv('movies1.csv')"
   ]
  }
 ],
 "metadata": {
  "kernelspec": {
   "display_name": "Python [conda env:base] *",
   "language": "python",
   "name": "conda-base-py"
  },
  "language_info": {
   "codemirror_mode": {
    "name": "ipython",
    "version": 3
   },
   "file_extension": ".py",
   "mimetype": "text/x-python",
   "name": "python",
   "nbconvert_exporter": "python",
   "pygments_lexer": "ipython3",
   "version": "3.13.5"
  }
 },
 "nbformat": 4,
 "nbformat_minor": 5
}
